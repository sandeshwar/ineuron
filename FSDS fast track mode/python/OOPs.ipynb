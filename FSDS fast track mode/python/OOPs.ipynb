{
 "cells": [
  {
   "cell_type": "code",
   "execution_count": 11,
   "id": "926467e0",
   "metadata": {},
   "outputs": [],
   "source": [
    "# basic class syntax\n",
    "class Car:\n",
    "    pass"
   ]
  },
  {
   "cell_type": "code",
   "execution_count": 16,
   "id": "3de73fb7",
   "metadata": {},
   "outputs": [],
   "source": [
    "# initialize an object of Car class\n",
    "o = Car()"
   ]
  },
  {
   "cell_type": "markdown",
   "id": "ea03eb8f",
   "metadata": {},
   "source": [
    "### Everything is a class in python"
   ]
  },
  {
   "cell_type": "code",
   "execution_count": 29,
   "id": "7e5be33e",
   "metadata": {},
   "outputs": [
    {
     "name": "stdout",
     "output_type": "stream",
     "text": [
      "<class '__main__.Car'>\n"
     ]
    }
   ],
   "source": [
    "print(type(o))"
   ]
  },
  {
   "cell_type": "code",
   "execution_count": 26,
   "id": "7b158a12",
   "metadata": {},
   "outputs": [
    {
     "name": "stdout",
     "output_type": "stream",
     "text": [
      "<class 'list'>\n"
     ]
    }
   ],
   "source": [
    "l = [1,2]\n",
    "print(type(l))"
   ]
  },
  {
   "cell_type": "code",
   "execution_count": 27,
   "id": "ecc0d401",
   "metadata": {},
   "outputs": [
    {
     "name": "stdout",
     "output_type": "stream",
     "text": [
      "<class 'str'>\n"
     ]
    }
   ],
   "source": [
    "s = 's'\n",
    "print(type(s))"
   ]
  },
  {
   "cell_type": "code",
   "execution_count": 28,
   "id": "578c1d09",
   "metadata": {},
   "outputs": [
    {
     "name": "stdout",
     "output_type": "stream",
     "text": [
      "<class 'int'>\n"
     ]
    }
   ],
   "source": [
    "i = 1\n",
    "print(type(i))"
   ]
  },
  {
   "cell_type": "markdown",
   "id": "e48c553b",
   "metadata": {},
   "source": [
    "### Simple class"
   ]
  },
  {
   "cell_type": "code",
   "execution_count": 67,
   "id": "67f8641e",
   "metadata": {},
   "outputs": [],
   "source": [
    "class Car:\n",
    "    def __init__(self, name, brand, price, fuel):\n",
    "        self.name = name\n",
    "        self.brand = brand\n",
    "        self.price = price\n",
    "        self.fuel = fuel\n",
    "    \n",
    "    def to_string(s):\n",
    "        print(f\"\"\" Name: {s.name} \\n Brand: {s.brand} \\n Price: {s.price} \\n Fuel type: {s.fuel}\n",
    "        \"\"\")"
   ]
  },
  {
   "cell_type": "code",
   "execution_count": 68,
   "id": "946d346e",
   "metadata": {},
   "outputs": [],
   "source": [
    "thar = Car('Thar', 'Mahindra', 1400000, 'petrol')"
   ]
  },
  {
   "cell_type": "code",
   "execution_count": 69,
   "id": "6034cfaa",
   "metadata": {},
   "outputs": [
    {
     "name": "stdout",
     "output_type": "stream",
     "text": [
      " Name: Thar \n",
      " Brand: Mahindra \n",
      " Price: 1400000 \n",
      " Fuel type: petrol\n",
      "        \n"
     ]
    }
   ],
   "source": [
    "thar.to_string()"
   ]
  },
  {
   "cell_type": "markdown",
   "id": "76f35b05",
   "metadata": {},
   "source": [
    "### Inheritance"
   ]
  },
  {
   "cell_type": "code",
   "execution_count": 88,
   "id": "dd788339",
   "metadata": {},
   "outputs": [],
   "source": [
    "class Vehicle(object):\n",
    "    def __init__(self, vtype, seats, wheels):\n",
    "        self.vtype = vtype\n",
    "        self.wheels = wheels\n",
    "        self.seats = seats\n",
    "        \n",
    "    def tostring(self):\n",
    "        print('Type:', self.vtype, 'Wheels:', self.wheels, 'Seats:', self.seats)"
   ]
  },
  {
   "cell_type": "code",
   "execution_count": 101,
   "id": "cbac47c5",
   "metadata": {},
   "outputs": [],
   "source": [
    "class Car(Vehicle, object): # multi class inheritence is possible too (comma separted name of classes)\n",
    "    def __init__(self, brand, seats):\n",
    "        self.brand = brand\n",
    "        \n",
    "        Vehicle.__init__(self,'Car', seats, 4)"
   ]
  },
  {
   "cell_type": "code",
   "execution_count": 102,
   "id": "ab4d7cff",
   "metadata": {},
   "outputs": [],
   "source": [
    "c = Car('Ferrari', 2)"
   ]
  },
  {
   "cell_type": "code",
   "execution_count": 100,
   "id": "87c7e94f",
   "metadata": {},
   "outputs": [
    {
     "name": "stdout",
     "output_type": "stream",
     "text": [
      "Type: Car Wheels: 4 Seats: 2\n"
     ]
    }
   ],
   "source": [
    "c.tostring()"
   ]
  },
  {
   "cell_type": "code",
   "execution_count": null,
   "id": "54f9d6ac",
   "metadata": {},
   "outputs": [],
   "source": []
  },
  {
   "cell_type": "code",
   "execution_count": null,
   "id": "429f5fec",
   "metadata": {},
   "outputs": [],
   "source": []
  }
 ],
 "metadata": {
  "kernelspec": {
   "display_name": "Python 3 (ipykernel)",
   "language": "python",
   "name": "python3"
  },
  "language_info": {
   "codemirror_mode": {
    "name": "ipython",
    "version": 3
   },
   "file_extension": ".py",
   "mimetype": "text/x-python",
   "name": "python",
   "nbconvert_exporter": "python",
   "pygments_lexer": "ipython3",
   "version": "3.9.7"
  }
 },
 "nbformat": 4,
 "nbformat_minor": 5
}
