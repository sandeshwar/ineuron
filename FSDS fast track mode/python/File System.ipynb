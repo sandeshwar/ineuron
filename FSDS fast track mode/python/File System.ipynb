{
 "cells": [
  {
   "cell_type": "code",
   "execution_count": null,
   "id": "f193ce70",
   "metadata": {},
   "outputs": [],
   "source": [
    "cd temp"
   ]
  },
  {
   "cell_type": "code",
   "execution_count": 83,
   "id": "4e8f4827",
   "metadata": {},
   "outputs": [],
   "source": [
    "f = open('sample.txt', '+r')"
   ]
  },
  {
   "cell_type": "code",
   "execution_count": 84,
   "id": "1b39fcbc",
   "metadata": {},
   "outputs": [
    {
     "data": {
      "text/plain": [
       "34"
      ]
     },
     "execution_count": 84,
     "metadata": {},
     "output_type": "execute_result"
    }
   ],
   "source": [
    "f.write('I wrote this from Jupyter notebook')"
   ]
  },
  {
   "cell_type": "code",
   "execution_count": 85,
   "id": "f194a469",
   "metadata": {},
   "outputs": [
    {
     "name": "stdout",
     "output_type": "stream",
     "text": [
      "I wrote this from Jupyter notebook\n"
     ]
    },
    {
     "data": {
      "text/plain": [
       "''"
      ]
     },
     "execution_count": 85,
     "metadata": {},
     "output_type": "execute_result"
    }
   ],
   "source": [
    "f.seek(0) # reset cursor\n",
    "print(f.readline())\n",
    "f.readline()"
   ]
  },
  {
   "cell_type": "code",
   "execution_count": 86,
   "id": "cc21303b",
   "metadata": {},
   "outputs": [
    {
     "data": {
      "text/plain": [
       "'+r'"
      ]
     },
     "execution_count": 86,
     "metadata": {},
     "output_type": "execute_result"
    }
   ],
   "source": [
    "f.mode # mode in which the file is opened"
   ]
  },
  {
   "cell_type": "code",
   "execution_count": 88,
   "id": "a2c1352c",
   "metadata": {},
   "outputs": [
    {
     "data": {
      "text/plain": [
       "34"
      ]
     },
     "execution_count": 88,
     "metadata": {},
     "output_type": "execute_result"
    }
   ],
   "source": [
    "f.tell() # current position of cursor"
   ]
  },
  {
   "cell_type": "code",
   "execution_count": 89,
   "id": "5783ab91",
   "metadata": {},
   "outputs": [
    {
     "data": {
      "text/plain": [
       "10"
      ]
     },
     "execution_count": 89,
     "metadata": {},
     "output_type": "execute_result"
    }
   ],
   "source": [
    "f.seek(10)\n",
    "f.tell()"
   ]
  },
  {
   "cell_type": "code",
   "execution_count": 82,
   "id": "bfbda1f6",
   "metadata": {},
   "outputs": [],
   "source": [
    "f.close()"
   ]
  },
  {
   "cell_type": "code",
   "execution_count": 90,
   "id": "0f415b06",
   "metadata": {},
   "outputs": [
    {
     "name": "stdout",
     "output_type": "stream",
     "text": [
      "Overwriting file2.txt\n"
     ]
    }
   ],
   "source": [
    "%%writefile file2.txt\n",
    "This is another way to write text to a file using '%%writefile'\n",
    "This is another line\n",
    "Yet another line"
   ]
  },
  {
   "cell_type": "code",
   "execution_count": 57,
   "id": "b0cc7639",
   "metadata": {},
   "outputs": [
    {
     "name": "stdout",
     "output_type": "stream",
     "text": [
      "This is another way to write text to a file using '%%writefile'\n",
      "\n"
     ]
    }
   ],
   "source": [
    "with open('file2.txt') as f:\n",
    "    print(f.read())"
   ]
  },
  {
   "cell_type": "code",
   "execution_count": 115,
   "id": "a13e5bdc",
   "metadata": {},
   "outputs": [],
   "source": [
    "file = open('file2.txt','w+')\n",
    "\n",
    "for line in file:\n",
    "    print(line)\n",
    "else:\n",
    "    file.close()"
   ]
  },
  {
   "cell_type": "code",
   "execution_count": 104,
   "id": "c1d6ba73",
   "metadata": {},
   "outputs": [
    {
     "data": {
      "text/plain": [
       "True"
      ]
     },
     "execution_count": 104,
     "metadata": {},
     "output_type": "execute_result"
    }
   ],
   "source": [
    "file.closed # is file closed"
   ]
  },
  {
   "cell_type": "markdown",
   "id": "ea35f2a5",
   "metadata": {},
   "source": [
    "### OS module"
   ]
  },
  {
   "cell_type": "code",
   "execution_count": 100,
   "id": "aa57c1a7",
   "metadata": {},
   "outputs": [],
   "source": [
    "import os"
   ]
  },
  {
   "cell_type": "code",
   "execution_count": 116,
   "id": "1fd52192",
   "metadata": {},
   "outputs": [],
   "source": [
    "os.remove('./file2.txt')"
   ]
  },
  {
   "cell_type": "code",
   "execution_count": 113,
   "id": "aa4a2dd1",
   "metadata": {},
   "outputs": [
    {
     "data": {
      "text/plain": [
       "['sample.txt']"
      ]
     },
     "execution_count": 113,
     "metadata": {},
     "output_type": "execute_result"
    }
   ],
   "source": [
    "os.listdir()"
   ]
  },
  {
   "cell_type": "code",
   "execution_count": 114,
   "id": "419ce9ab",
   "metadata": {},
   "outputs": [
    {
     "data": {
      "text/plain": [
       "'D:\\\\Workspace\\\\iNeuron\\\\FSDS fast track mode\\\\python\\\\temp'"
      ]
     },
     "execution_count": 114,
     "metadata": {},
     "output_type": "execute_result"
    }
   ],
   "source": [
    "os.getcwd()"
   ]
  },
  {
   "cell_type": "code",
   "execution_count": 117,
   "id": "861e77fa",
   "metadata": {},
   "outputs": [
    {
     "data": {
      "text/plain": [
       "b'D:\\\\Workspace\\\\iNeuron\\\\FSDS fast track mode\\\\python\\\\temp'"
      ]
     },
     "execution_count": 117,
     "metadata": {},
     "output_type": "execute_result"
    }
   ],
   "source": [
    "os.getcwdb()"
   ]
  },
  {
   "cell_type": "code",
   "execution_count": null,
   "id": "2aebbf6f",
   "metadata": {},
   "outputs": [],
   "source": []
  }
 ],
 "metadata": {
  "kernelspec": {
   "display_name": "Python 3 (ipykernel)",
   "language": "python",
   "name": "python3"
  },
  "language_info": {
   "codemirror_mode": {
    "name": "ipython",
    "version": 3
   },
   "file_extension": ".py",
   "mimetype": "text/x-python",
   "name": "python",
   "nbconvert_exporter": "python",
   "pygments_lexer": "ipython3",
   "version": "3.9.7"
  }
 },
 "nbformat": 4,
 "nbformat_minor": 5
}
