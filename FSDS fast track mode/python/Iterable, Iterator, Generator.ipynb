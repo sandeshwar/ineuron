{
 "cells": [
  {
   "cell_type": "code",
   "execution_count": 1,
   "id": "a52e7567",
   "metadata": {},
   "outputs": [],
   "source": [
    "s = 'Sandeshwar'"
   ]
  },
  {
   "cell_type": "code",
   "execution_count": 13,
   "id": "ae2cccca",
   "metadata": {},
   "outputs": [
    {
     "data": {
      "text/plain": [
       "'S'"
      ]
     },
     "execution_count": 13,
     "metadata": {},
     "output_type": "execute_result"
    }
   ],
   "source": [
    "# next(s) # error\n",
    "\n",
    "next(iter(s)) # convert iterable (str) into iterator using iter function"
   ]
  },
  {
   "cell_type": "code",
   "execution_count": 9,
   "id": "37f27dd6",
   "metadata": {},
   "outputs": [
    {
     "data": {
      "text/plain": [
       "'S'"
      ]
     },
     "execution_count": 9,
     "metadata": {},
     "output_type": "execute_result"
    }
   ],
   "source": [
    "next((i for i in s)) "
   ]
  },
  {
   "cell_type": "code",
   "execution_count": 14,
   "id": "fd0433de",
   "metadata": {},
   "outputs": [],
   "source": [
    "l = [1,2,3,4]"
   ]
  },
  {
   "cell_type": "code",
   "execution_count": 18,
   "id": "e459a5f3",
   "metadata": {},
   "outputs": [
    {
     "name": "stdout",
     "output_type": "stream",
     "text": [
      "1\n",
      "2\n"
     ]
    }
   ],
   "source": [
    "# next(l) # error\n",
    "\n",
    "iterList = iter(l)\n",
    "\n",
    "print(next(iterList))\n",
    "print(next(iterList))"
   ]
  },
  {
   "cell_type": "code",
   "execution_count": 20,
   "id": "687a394a",
   "metadata": {},
   "outputs": [],
   "source": [
    "# iter(123) # error"
   ]
  },
  {
   "cell_type": "code",
   "execution_count": 23,
   "id": "d56ac595",
   "metadata": {},
   "outputs": [
    {
     "data": {
      "text/plain": [
       "1"
      ]
     },
     "execution_count": 23,
     "metadata": {},
     "output_type": "execute_result"
    }
   ],
   "source": [
    " dictIter = iter({1:'1',2:'2',3:'3'}) \n",
    "    \n",
    "next(dictIter)"
   ]
  },
  {
   "cell_type": "code",
   "execution_count": 24,
   "id": "37cd2afa",
   "metadata": {},
   "outputs": [
    {
     "name": "stdout",
     "output_type": "stream",
     "text": [
      "1\n"
     ]
    }
   ],
   "source": [
    "for i in {1:'1'}:\n",
    "    print(i)"
   ]
  },
  {
   "cell_type": "code",
   "execution_count": 26,
   "id": "6a4001aa",
   "metadata": {},
   "outputs": [
    {
     "name": "stdout",
     "output_type": "stream",
     "text": [
      "1\n",
      "2\n"
     ]
    }
   ],
   "source": [
    "for i in (1,2):\n",
    "    print(i)"
   ]
  },
  {
   "cell_type": "code",
   "execution_count": 33,
   "id": "c45f9bf4",
   "metadata": {},
   "outputs": [
    {
     "name": "stdout",
     "output_type": "stream",
     "text": [
      "1\n",
      "2\n",
      "4\n",
      "5\n",
      "s\n",
      "a\n"
     ]
    }
   ],
   "source": [
    "for i in {1,4,2,'s',5,'a'}: # set is unordered\n",
    "    print(i)"
   ]
  },
  {
   "cell_type": "code",
   "execution_count": 35,
   "id": "d524d33e",
   "metadata": {},
   "outputs": [
    {
     "name": "stdout",
     "output_type": "stream",
     "text": [
      "S\n"
     ]
    }
   ],
   "source": [
    "for i in next(iter('Sandy')):\n",
    "    print(i)"
   ]
  },
  {
   "cell_type": "code",
   "execution_count": 38,
   "id": "13179930",
   "metadata": {},
   "outputs": [
    {
     "name": "stdout",
     "output_type": "stream",
     "text": [
      "S\n",
      "S\n",
      "S\n",
      "S\n",
      "S\n"
     ]
    }
   ],
   "source": [
    "s = 'Sandy'\n",
    "for i in range(len(s)):\n",
    "    print(next(iter(s)))"
   ]
  },
  {
   "cell_type": "code",
   "execution_count": 41,
   "id": "06629a29",
   "metadata": {},
   "outputs": [],
   "source": [
    "# iter(1) # error"
   ]
  },
  {
   "cell_type": "markdown",
   "id": "2a6f0ba2",
   "metadata": {},
   "source": [
    "### Generator"
   ]
  },
  {
   "cell_type": "code",
   "execution_count": 42,
   "id": "5c7a441c",
   "metadata": {},
   "outputs": [],
   "source": [
    "r = range(10)"
   ]
  },
  {
   "cell_type": "code",
   "execution_count": 45,
   "id": "cac739aa",
   "metadata": {},
   "outputs": [],
   "source": [
    "# next(r) # error"
   ]
  },
  {
   "cell_type": "code",
   "execution_count": 48,
   "id": "16b2e372",
   "metadata": {},
   "outputs": [
    {
     "data": {
      "text/plain": [
       "0"
      ]
     },
     "execution_count": 48,
     "metadata": {},
     "output_type": "execute_result"
    }
   ],
   "source": [
    "next(iter(r))"
   ]
  },
  {
   "cell_type": "code",
   "execution_count": 54,
   "id": "97e0517d",
   "metadata": {},
   "outputs": [],
   "source": [
    "def gen_cube(n):\n",
    "    for i in range(n):\n",
    "        yield i**3"
   ]
  },
  {
   "cell_type": "code",
   "execution_count": 50,
   "id": "72bce2e8",
   "metadata": {},
   "outputs": [
    {
     "data": {
      "text/plain": [
       "[0, 1, 8, 27, 64, 125, 216, 343, 512, 729]"
      ]
     },
     "execution_count": 50,
     "metadata": {},
     "output_type": "execute_result"
    }
   ],
   "source": [
    "[i for i in get_cube(10)]"
   ]
  },
  {
   "cell_type": "code",
   "execution_count": 57,
   "id": "2fdc5a5f",
   "metadata": {},
   "outputs": [
    {
     "data": {
      "text/plain": [
       "<generator object gen_cube at 0x0000023B87CC4900>"
      ]
     },
     "execution_count": 57,
     "metadata": {},
     "output_type": "execute_result"
    }
   ],
   "source": [
    "gen_cube(1)"
   ]
  },
  {
   "cell_type": "code",
   "execution_count": 59,
   "id": "56157472",
   "metadata": {},
   "outputs": [],
   "source": [
    "def print_str(s):\n",
    "    for i in s:\n",
    "        yield i"
   ]
  },
  {
   "cell_type": "code",
   "execution_count": 61,
   "id": "bb0cf24c",
   "metadata": {},
   "outputs": [
    {
     "data": {
      "text/plain": [
       "['S', 'a', 'n', 'd', 'y']"
      ]
     },
     "execution_count": 61,
     "metadata": {},
     "output_type": "execute_result"
    }
   ],
   "source": [
    "list(print_str('Sandy'))"
   ]
  },
  {
   "cell_type": "code",
   "execution_count": null,
   "id": "c8c4caba",
   "metadata": {},
   "outputs": [],
   "source": []
  },
  {
   "cell_type": "code",
   "execution_count": 96,
   "id": "7d6b82c2",
   "metadata": {},
   "outputs": [],
   "source": [
    "# generate fibonacci using generator\n",
    "\n",
    "def gen_fibonacci(n):\n",
    "    a, b = 0, 1\n",
    "    while (a < n):\n",
    "        yield a\n",
    "        a, b = b, a + b"
   ]
  },
  {
   "cell_type": "code",
   "execution_count": 97,
   "id": "c5f42f7c",
   "metadata": {},
   "outputs": [
    {
     "data": {
      "text/plain": [
       "[0, 1, 1, 2, 3, 5, 8, 13]"
      ]
     },
     "execution_count": 97,
     "metadata": {},
     "output_type": "execute_result"
    }
   ],
   "source": [
    "[i for i in gen_fibonacci(15)]"
   ]
  },
  {
   "cell_type": "code",
   "execution_count": null,
   "id": "61fde2dd",
   "metadata": {},
   "outputs": [],
   "source": []
  }
 ],
 "metadata": {
  "kernelspec": {
   "display_name": "Python 3 (ipykernel)",
   "language": "python",
   "name": "python3"
  },
  "language_info": {
   "codemirror_mode": {
    "name": "ipython",
    "version": 3
   },
   "file_extension": ".py",
   "mimetype": "text/x-python",
   "name": "python",
   "nbconvert_exporter": "python",
   "pygments_lexer": "ipython3",
   "version": "3.9.7"
  }
 },
 "nbformat": 4,
 "nbformat_minor": 5
}
