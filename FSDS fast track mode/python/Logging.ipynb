{
 "cells": [
  {
   "cell_type": "code",
   "execution_count": 1,
   "id": "f63c698c",
   "metadata": {},
   "outputs": [],
   "source": [
    "import logging"
   ]
  },
  {
   "cell_type": "code",
   "execution_count": 2,
   "id": "b448d557",
   "metadata": {},
   "outputs": [
    {
     "name": "stdout",
     "output_type": "stream",
     "text": [
      "D:\\Workspace\\iNeuron\\FSDS fast track mode\\python\\temp\n"
     ]
    }
   ],
   "source": [
    "cd temp"
   ]
  },
  {
   "cell_type": "markdown",
   "id": "0d9f64d2",
   "metadata": {},
   "source": [
    "### Basic logging"
   ]
  },
  {
   "cell_type": "code",
   "execution_count": 3,
   "id": "5f57045a",
   "metadata": {},
   "outputs": [],
   "source": [
    "# logging.basicConfig(filename='temp.log', level=logging.INFO)\n",
    "\n",
    "# logging.info('Logging started')\n",
    "# logging.warning('This is a warning log')\n",
    "# logging.error('This is an error log')\n",
    "\n",
    "# logging.shutdown()"
   ]
  },
  {
   "cell_type": "markdown",
   "id": "eb09d314",
   "metadata": {},
   "source": [
    "### Logging with custom format"
   ]
  },
  {
   "cell_type": "code",
   "execution_count": 4,
   "id": "af9b23a3",
   "metadata": {},
   "outputs": [],
   "source": [
    "logging.basicConfig(filename='custom_format.log', level=logging.DEBUG, format='%(asctime)s [%(levelname)s] : %(message)s')\n",
    "\n",
    "logging.debug('This is a debug log')\n",
    "logging.info('This is a info log')\n",
    "logging.warning('This is a warning log')\n",
    "logging.error('This is a error log')\n",
    "logging.critical('This is a critical log')\n",
    "\n",
    "logging.shutdown()"
   ]
  },
  {
   "cell_type": "markdown",
   "id": "9002ca4f",
   "metadata": {},
   "source": [
    "### Print the logs"
   ]
  },
  {
   "cell_type": "code",
   "execution_count": 5,
   "id": "446bc3c7",
   "metadata": {
    "scrolled": true
   },
   "outputs": [
    {
     "name": "stdout",
     "output_type": "stream",
     "text": [
      "2022-01-28 17:27:22,924 [DEBUG] : This is a debug log\n",
      "2022-01-28 17:27:22,925 [INFO] : This is a info log\n",
      "2022-01-28 17:27:22,925 [WARNING] : This is a warning log\n",
      "2022-01-28 17:27:22,925 [ERROR] : This is a error log\n",
      "2022-01-28 17:27:22,926 [CRITICAL] : This is a critical log\n"
     ]
    }
   ],
   "source": [
    "with open('custom_format.log', 'r') as logs:\n",
    "    for line in logs.readlines():\n",
    "        print(line, end='')"
   ]
  },
  {
   "cell_type": "code",
   "execution_count": null,
   "id": "01064517",
   "metadata": {},
   "outputs": [],
   "source": []
  }
 ],
 "metadata": {
  "kernelspec": {
   "display_name": "Python 3 (ipykernel)",
   "language": "python",
   "name": "python3"
  },
  "language_info": {
   "codemirror_mode": {
    "name": "ipython",
    "version": 3
   },
   "file_extension": ".py",
   "mimetype": "text/x-python",
   "name": "python",
   "nbconvert_exporter": "python",
   "pygments_lexer": "ipython3",
   "version": "3.9.7"
  }
 },
 "nbformat": 4,
 "nbformat_minor": 5
}
