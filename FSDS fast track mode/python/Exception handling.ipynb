{
 "cells": [
  {
   "cell_type": "code",
   "execution_count": 3,
   "id": "fb2c92e6",
   "metadata": {},
   "outputs": [],
   "source": [
    "# ERROR (try and except blocks are required)\n",
    "\n",
    "# try:\n",
    "#     f = open('invalid.txt', 'r')"
   ]
  },
  {
   "cell_type": "code",
   "execution_count": 4,
   "id": "a42e77d8",
   "metadata": {},
   "outputs": [
    {
     "name": "stdout",
     "output_type": "stream",
     "text": [
      "[Errno 2] No such file or directory: 'invalid.txt'\n"
     ]
    }
   ],
   "source": [
    "# open a file that doesn't exist (in read mode)\n",
    "try:\n",
    "    f = open('invalid.txt','r')\n",
    "except Exception as e:\n",
    "    print(e)"
   ]
  },
  {
   "cell_type": "code",
   "execution_count": 10,
   "id": "8a79a310",
   "metadata": {},
   "outputs": [
    {
     "name": "stdout",
     "output_type": "stream",
     "text": [
      "D:\\Workspace\\iNeuron\\FSDS fast track mode\\python\\temp\n"
     ]
    }
   ],
   "source": [
    "cd temp"
   ]
  },
  {
   "cell_type": "code",
   "execution_count": 15,
   "id": "31d12b4c",
   "metadata": {},
   "outputs": [
    {
     "name": "stdout",
     "output_type": "stream",
     "text": [
      "not writable\n",
      "Continue executing program..\n"
     ]
    }
   ],
   "source": [
    "# attempting to write to a file which was opened in read mode\n",
    "try:\n",
    "    f = open('sample.txt','r')\n",
    "    f.write('Something')\n",
    "except Exception as e:\n",
    "    print(e)\n",
    "    \n",
    "print('Continue executing program..')"
   ]
  },
  {
   "cell_type": "code",
   "execution_count": 11,
   "id": "30ce27e6",
   "metadata": {},
   "outputs": [
    {
     "name": "stdout",
     "output_type": "stream",
     "text": [
      " Volume in drive D is Data\n",
      " Volume Serial Number is AC21-D1CB\n",
      "\n",
      " Directory of D:\\Workspace\\iNeuron\\FSDS fast track mode\\python\\temp\n",
      "\n",
      "01/27/2022  10:27 PM    <DIR>          .\n",
      "01/27/2022  10:27 PM    <DIR>          ..\n",
      "01/27/2022  09:53 PM                34 sample.txt\n",
      "               1 File(s)             34 bytes\n",
      "               2 Dir(s)  283,343,941,632 bytes free\n"
     ]
    }
   ],
   "source": [
    "ls"
   ]
  },
  {
   "cell_type": "code",
   "execution_count": 26,
   "id": "0dc3e424",
   "metadata": {},
   "outputs": [
    {
     "name": "stdout",
     "output_type": "stream",
     "text": [
      "not writable\n",
      "-------\n",
      "**finally** is executed every case\n"
     ]
    }
   ],
   "source": [
    "# attempting to write to a file which was opened in read mode\n",
    "try:\n",
    "    f = open('sample.txt','r')\n",
    "    f.write('Something')\n",
    "except Exception as e:\n",
    "    print(e)\n",
    "else:\n",
    "    print('**else** block is executed only if the try is successfully executed')\n",
    "finally:\n",
    "    print('-------')\n",
    "    print('**finally** is executed every case')\n",
    "   "
   ]
  },
  {
   "cell_type": "code",
   "execution_count": 24,
   "id": "ef63819e",
   "metadata": {},
   "outputs": [
    {
     "name": "stdout",
     "output_type": "stream",
     "text": [
      "I wrote this from Jupyter notebook\n",
      "----------\n",
      "**else** block is executed only if the try is successfully executed\n",
      "-------\n",
      "**finally** is executed every case\n"
     ]
    }
   ],
   "source": [
    "# attempting to write to a file which was opened in read mode\n",
    "try:\n",
    "    f = open('sample.txt','r')\n",
    "    print(f.read())\n",
    "    print('----------')\n",
    "except Exception as e:\n",
    "    print(e)\n",
    "else:\n",
    "    print('**else** block is executed only if the try is successfully executed')\n",
    "finally:\n",
    "    print('-------')\n",
    "    print('**finally** is executed every case')\n",
    "    "
   ]
  },
  {
   "cell_type": "markdown",
   "id": "25fe1538",
   "metadata": {},
   "source": [
    "### Take an integer input from user"
   ]
  },
  {
   "cell_type": "code",
   "execution_count": 39,
   "id": "d5738cd9",
   "metadata": {},
   "outputs": [
    {
     "name": "stdout",
     "output_type": "stream",
     "text": [
      "Please enter a number: /\n",
      "`/`  is not a valid number. Please try again\n",
      "Please enter a number: 2\n"
     ]
    },
    {
     "data": {
      "text/plain": [
       "2"
      ]
     },
     "execution_count": 39,
     "metadata": {},
     "output_type": "execute_result"
    }
   ],
   "source": [
    "def get_num():\n",
    "    \"\"\"\n",
    "    This function will return the first integer value which the user will enter\n",
    "    If the user enters non integer value then it will keep on prompting the user for an integer value\n",
    "    \"\"\"\n",
    "    while True:\n",
    "        try:\n",
    "            s = input('Please enter a number: ')\n",
    "            return int(s)\n",
    "        except ValueError as e:\n",
    "            print(f'`{s}`', 'is not a valid number. Please try again')\n",
    "            continue\n",
    "        except Exception as ex:\n",
    "            print('Error occurred: ', ex)\n",
    "            break\n",
    "            \n",
    "            \n",
    "# example\n",
    "get_num()"
   ]
  },
  {
   "cell_type": "markdown",
   "id": "b014549d",
   "metadata": {},
   "source": [
    "### Raising custom exception"
   ]
  },
  {
   "cell_type": "code",
   "execution_count": 47,
   "id": "310331ed",
   "metadata": {},
   "outputs": [],
   "source": [
    "def get_positive_num():\n",
    "    \"\"\"\n",
    "    Get a positive number from the user\n",
    "    Throw exception if input is negative\n",
    "    \"\"\"\n",
    "    while True:\n",
    "        try:\n",
    "            s = input(\"Please enter a positive number: \")\n",
    "            n = int(s)\n",
    "            if n < 0:\n",
    "                raise Exception('Please enter a number greater than equal to 0')\n",
    "            return n\n",
    "        except ValueError as e:\n",
    "            print('Please enter a valid number')\n",
    "            continue\n",
    "#         except Exception as f:\n",
    "#             print('Error:', f)"
   ]
  },
  {
   "cell_type": "code",
   "execution_count": 49,
   "id": "389e1a85",
   "metadata": {},
   "outputs": [
    {
     "name": "stdout",
     "output_type": "stream",
     "text": [
      "Please enter a positive number: 0\n"
     ]
    },
    {
     "data": {
      "text/plain": [
       "0"
      ]
     },
     "execution_count": 49,
     "metadata": {},
     "output_type": "execute_result"
    }
   ],
   "source": [
    "get_positive_num()"
   ]
  },
  {
   "cell_type": "code",
   "execution_count": null,
   "id": "4603e688",
   "metadata": {},
   "outputs": [],
   "source": []
  },
  {
   "cell_type": "code",
   "execution_count": null,
   "id": "74e4384f",
   "metadata": {},
   "outputs": [],
   "source": []
  }
 ],
 "metadata": {
  "kernelspec": {
   "display_name": "Python 3 (ipykernel)",
   "language": "python",
   "name": "python3"
  },
  "language_info": {
   "codemirror_mode": {
    "name": "ipython",
    "version": 3
   },
   "file_extension": ".py",
   "mimetype": "text/x-python",
   "name": "python",
   "nbconvert_exporter": "python",
   "pygments_lexer": "ipython3",
   "version": "3.9.7"
  }
 },
 "nbformat": 4,
 "nbformat_minor": 5
}
