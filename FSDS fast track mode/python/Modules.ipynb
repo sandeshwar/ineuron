{
 "cells": [
  {
   "cell_type": "code",
   "execution_count": 1,
   "id": "f5725287",
   "metadata": {},
   "outputs": [],
   "source": [
    "import modules.arithmetic as a"
   ]
  },
  {
   "cell_type": "code",
   "execution_count": 2,
   "id": "057013dd",
   "metadata": {},
   "outputs": [
    {
     "data": {
      "text/plain": [
       "'Error: Please check the inputs'"
      ]
     },
     "execution_count": 2,
     "metadata": {},
     "output_type": "execute_result"
    }
   ],
   "source": [
    "a.a_add(a,2)"
   ]
  },
  {
   "cell_type": "code",
   "execution_count": 3,
   "id": "e1aca7a9",
   "metadata": {},
   "outputs": [
    {
     "data": {
      "text/plain": [
       "5"
      ]
     },
     "execution_count": 3,
     "metadata": {},
     "output_type": "execute_result"
    }
   ],
   "source": [
    "a.a_add(1,4)"
   ]
  },
  {
   "cell_type": "code",
   "execution_count": 4,
   "id": "16da0171",
   "metadata": {},
   "outputs": [
    {
     "data": {
      "text/plain": [
       "6"
      ]
     },
     "execution_count": 4,
     "metadata": {},
     "output_type": "execute_result"
    }
   ],
   "source": [
    "a.a_sub(2,-4)"
   ]
  },
  {
   "cell_type": "code",
   "execution_count": null,
   "id": "48170651",
   "metadata": {},
   "outputs": [],
   "source": []
  }
 ],
 "metadata": {
  "kernelspec": {
   "display_name": "Python 3 (ipykernel)",
   "language": "python",
   "name": "python3"
  },
  "language_info": {
   "codemirror_mode": {
    "name": "ipython",
    "version": 3
   },
   "file_extension": ".py",
   "mimetype": "text/x-python",
   "name": "python",
   "nbconvert_exporter": "python",
   "pygments_lexer": "ipython3",
   "version": "3.9.7"
  }
 },
 "nbformat": 4,
 "nbformat_minor": 5
}
