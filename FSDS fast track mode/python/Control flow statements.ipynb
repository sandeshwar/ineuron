{
 "cells": [
  {
   "cell_type": "code",
   "execution_count": 41,
   "metadata": {},
   "outputs": [],
   "source": [
    "gender = 'female'\n",
    "age = 22"
   ]
  },
  {
   "cell_type": "markdown",
   "metadata": {},
   "source": [
    "### if, elif, else"
   ]
  },
  {
   "cell_type": "code",
   "execution_count": 42,
   "metadata": {},
   "outputs": [
    {
     "name": "stdout",
     "output_type": "stream",
     "text": [
      "Ms.\n"
     ]
    }
   ],
   "source": [
    "if gender == 'male':\n",
    "    print('Mr.')\n",
    "elif gender == 'female':\n",
    "    print('Ms.')\n",
    "else:\n",
    "    pass;"
   ]
  },
  {
   "cell_type": "code",
   "execution_count": 43,
   "metadata": {},
   "outputs": [
    {
     "name": "stdout",
     "output_type": "stream",
     "text": [
      "Match found\n"
     ]
    }
   ],
   "source": [
    "if (gender == 'female' and age < 30 and age > 18):\n",
    "    print('Match found')\n",
    "else:\n",
    "    print('Not a match')"
   ]
  },
  {
   "cell_type": "code",
   "execution_count": 36,
   "metadata": {},
   "outputs": [
    {
     "name": "stdout",
     "output_type": "stream",
     "text": [
      "True\n"
     ]
    }
   ],
   "source": [
    "if (False | True):\n",
    "    print('True')\n",
    "else:\n",
    "    print('False')"
   ]
  },
  {
   "cell_type": "markdown",
   "metadata": {},
   "source": [
    "### for loop"
   ]
  },
  {
   "cell_type": "code",
   "execution_count": 2,
   "metadata": {},
   "outputs": [
    {
     "name": "stdout",
     "output_type": "stream",
     "text": [
      "1\n",
      "2\n",
      "3\n",
      "4\n",
      "5\n"
     ]
    }
   ],
   "source": [
    "l = [1,2,3,4,5]\n",
    "\n",
    "for i in l:\n",
    "    print(i)"
   ]
  },
  {
   "cell_type": "code",
   "execution_count": 3,
   "metadata": {},
   "outputs": [
    {
     "name": "stdout",
     "output_type": "stream",
     "text": [
      "s\n",
      "a\n",
      "n\n",
      "d\n",
      "y\n"
     ]
    }
   ],
   "source": [
    "s = 'sandy'\n",
    "for c in s:\n",
    "    print(c)"
   ]
  },
  {
   "cell_type": "code",
   "execution_count": 4,
   "metadata": {},
   "outputs": [
    {
     "name": "stdout",
     "output_type": "stream",
     "text": [
      "1\n",
      "2\n",
      "3\n"
     ]
    }
   ],
   "source": [
    "t = (1,2,3)\n",
    "for i in t:\n",
    "    print(i)"
   ]
  },
  {
   "cell_type": "code",
   "execution_count": 17,
   "metadata": {},
   "outputs": [
    {
     "name": "stdout",
     "output_type": "stream",
     "text": [
      "1\n",
      "2\n",
      "sandy\n",
      "3\n",
      "4\n",
      "5\n"
     ]
    }
   ],
   "source": [
    "s = {1,2,4,3,'sandy',5}\n",
    "for i in s:\n",
    "    print(i)"
   ]
  },
  {
   "cell_type": "code",
   "execution_count": 25,
   "metadata": {},
   "outputs": [
    {
     "data": {
      "text/plain": [
       "[1, 24]"
      ]
     },
     "execution_count": 25,
     "metadata": {},
     "output_type": "execute_result"
    }
   ],
   "source": [
    "l = [1,24, 'sandy', 1+6j, [24,2,3]]\n",
    "new = []\n",
    "for i in l:\n",
    "    if type(i) == int:\n",
    "        new.append(i)\n",
    "        \n",
    "new"
   ]
  },
  {
   "cell_type": "code",
   "execution_count": 28,
   "metadata": {},
   "outputs": [
    {
     "name": "stdout",
     "output_type": "stream",
     "text": [
      "0 = 1\n",
      "1 = 24\n",
      "2 = sandy\n",
      "3 = (1+6j)\n",
      "4 = [24, 2, 3]\n"
     ]
    }
   ],
   "source": [
    "for i in range(len(l)):\n",
    "    print(i, '=', l[i])"
   ]
  },
  {
   "cell_type": "code",
   "execution_count": 29,
   "metadata": {},
   "outputs": [
    {
     "name": "stdout",
     "output_type": "stream",
     "text": [
      "0 1\n",
      "1 24\n",
      "2 sandy\n",
      "3 (1+6j)\n",
      "4 [24, 2, 3]\n"
     ]
    }
   ],
   "source": [
    "for i,j in enumerate(l):\n",
    "    print(i, j)"
   ]
  },
  {
   "cell_type": "markdown",
   "metadata": {},
   "source": [
    "### for else"
   ]
  },
  {
   "cell_type": "code",
   "execution_count": 2,
   "metadata": {},
   "outputs": [
    {
     "name": "stdout",
     "output_type": "stream",
     "text": [
      "S\n",
      "a\n",
      "n\n",
      "d\n",
      "y\n",
      "for loop executed\n"
     ]
    }
   ],
   "source": [
    "for i in 'Sandy':\n",
    "    print(i)\n",
    "else:\n",
    "    print('for loop executed')"
   ]
  },
  {
   "cell_type": "code",
   "execution_count": 5,
   "metadata": {},
   "outputs": [
    {
     "name": "stdout",
     "output_type": "stream",
     "text": [
      "S\n",
      "a\n",
      "n\n",
      "d\n"
     ]
    }
   ],
   "source": [
    "for i in 'Sandy':\n",
    "    if i == 'y':\n",
    "        break\n",
    "    print(i)\n",
    "else:\n",
    "    print('for loop completed.')"
   ]
  },
  {
   "cell_type": "markdown",
   "metadata": {},
   "source": [
    "### while "
   ]
  },
  {
   "cell_type": "code",
   "execution_count": 11,
   "metadata": {},
   "outputs": [
    {
     "name": "stdout",
     "output_type": "stream",
     "text": [
      "1\n",
      "2\n",
      "3\n",
      "4\n",
      "5\n"
     ]
    }
   ],
   "source": [
    "a = 1\n",
    "\n",
    "while a < 6:\n",
    "    print(a)\n",
    "    a+=1"
   ]
  },
  {
   "cell_type": "code",
   "execution_count": 3,
   "metadata": {},
   "outputs": [
    {
     "name": "stdout",
     "output_type": "stream",
     "text": [
      "1\n",
      "3\n",
      "5\n"
     ]
    }
   ],
   "source": [
    "a = 0\n",
    "\n",
    "while a < 6:\n",
    "    a+=1\n",
    "    if a%2 == 0:\n",
    "        continue\n",
    "    print(a)"
   ]
  },
  {
   "cell_type": "markdown",
   "metadata": {},
   "source": [
    "### Patterns using loops"
   ]
  },
  {
   "cell_type": "code",
   "execution_count": 18,
   "metadata": {},
   "outputs": [
    {
     "name": "stdout",
     "output_type": "stream",
     "text": [
      "Enter the number of lines: 10\n",
      "\n",
      "$ \n",
      "$ $ \n",
      "$ $ $ \n",
      "$ $ $ $ \n",
      "$ $ $ $ $ \n",
      "$ $ $ $ $ $ \n",
      "$ $ $ $ $ $ $ \n",
      "$ $ $ $ $ $ $ $ \n",
      "$ $ $ $ $ $ $ $ $ \n",
      "$ $ $ $ $ $ $ $ $ $ \n"
     ]
    }
   ],
   "source": [
    "for i in range(int(input(\"Enter the number of lines: \")) + 1):\n",
    "    for j in range(i):\n",
    "        print('$', end=' ')\n",
    "    print()"
   ]
  },
  {
   "cell_type": "markdown",
   "metadata": {},
   "source": [
    "### reverse string"
   ]
  },
  {
   "cell_type": "code",
   "execution_count": 20,
   "metadata": {},
   "outputs": [
    {
     "data": {
      "text/plain": [
       "'rawhsednaS'"
      ]
     },
     "execution_count": 20,
     "metadata": {},
     "output_type": "execute_result"
    }
   ],
   "source": [
    "l = 'Sandeshwar'\n",
    "\n",
    "l[::-1]"
   ]
  },
  {
   "cell_type": "code",
   "execution_count": 25,
   "metadata": {},
   "outputs": [
    {
     "data": {
      "text/plain": [
       "'rawhsednaS'"
      ]
     },
     "execution_count": 25,
     "metadata": {},
     "output_type": "execute_result"
    }
   ],
   "source": [
    "''.join(list(reversed(l)))"
   ]
  },
  {
   "cell_type": "code",
   "execution_count": 33,
   "metadata": {},
   "outputs": [
    {
     "name": "stdout",
     "output_type": "stream",
     "text": [
      "rawhsednaS\n"
     ]
    }
   ],
   "source": [
    "s = ''\n",
    "for i in range(len(l) - 1, -1, -1):\n",
    "    s+=l[i]\n",
    "print(s)"
   ]
  },
  {
   "cell_type": "code",
   "execution_count": 34,
   "metadata": {},
   "outputs": [
    {
     "name": "stdout",
     "output_type": "stream",
     "text": [
      "rawhsednaS"
     ]
    }
   ],
   "source": [
    "i = len(s) - 1\n",
    "\n",
    "while i >= 0:\n",
    "    print(l[i], end='')\n",
    "    i-=1\n"
   ]
  },
  {
   "cell_type": "code",
   "execution_count": 35,
   "metadata": {},
   "outputs": [
    {
     "name": "stdout",
     "output_type": "stream",
     "text": [
      "rawhsednaS"
     ]
    }
   ],
   "source": [
    "i = -1\n",
    "\n",
    "while i >= -len(s):\n",
    "    print(l[i], end='')\n",
    "    i-=1"
   ]
  },
  {
   "cell_type": "code",
   "execution_count": 37,
   "metadata": {},
   "outputs": [
    {
     "name": "stdout",
     "output_type": "stream",
     "text": [
      "i  is a vowel\n",
      "n is a consonant\n",
      "e  is a vowel\n",
      "u  is a vowel\n",
      "r is a consonant\n",
      "o  is a vowel\n",
      "n is a consonant\n"
     ]
    }
   ],
   "source": [
    "s = 'ineuron'\n",
    "\n",
    "for c in s:\n",
    "    if c.lower() in 'aeiou':\n",
    "        print(c, ' is a vowel')\n",
    "    else:\n",
    "        print(c, 'is a consonant')"
   ]
  },
  {
   "cell_type": "markdown",
   "metadata": {},
   "source": [
    "# Practise questions"
   ]
  },
  {
   "cell_type": "markdown",
   "metadata": {},
   "source": [
    "### Check whether string is a palindrome"
   ]
  },
  {
   "cell_type": "code",
   "execution_count": 48,
   "metadata": {},
   "outputs": [
    {
     "name": "stdout",
     "output_type": "stream",
     "text": [
      "Sandeshwar is NOT a palindrome\n",
      "Wow is a palindrome\n",
      "Madam is a palindrome\n",
      "level is a palindrome\n",
      "Thakur is NOT a palindrome\n"
     ]
    }
   ],
   "source": [
    "l = ['Sandeshwar','Wow','Madam','level','Thakur']\n",
    "\n",
    "for w in l:\n",
    "    if w[::-1].lower() == w.lower():\n",
    "        print(w, 'is a palindrome')\n",
    "    else:\n",
    "        print(w, 'is NOT a palindrome')"
   ]
  },
  {
   "cell_type": "code",
   "execution_count": 56,
   "metadata": {},
   "outputs": [
    {
     "name": "stdout",
     "output_type": "stream",
     "text": [
      "Palindrome\n"
     ]
    }
   ],
   "source": [
    "w = 'Malayalam'\n",
    "\n",
    "if w[:len(w)//2].lower() == w[-1:len(w)//2:-1]:\n",
    "    print('Palindrome')\n",
    "else:\n",
    "    print('Not a palindrome')"
   ]
  },
  {
   "cell_type": "code",
   "execution_count": 80,
   "metadata": {},
   "outputs": [
    {
     "name": "stdout",
     "output_type": "stream",
     "text": [
      "Not a palindrome\n"
     ]
    }
   ],
   "source": [
    "w = 'leveel'\n",
    "\n",
    "tocheck = len(w)//2\n",
    "\n",
    "flag = True\n",
    "for i in range(0,tocheck):\n",
    "    if w[i].lower() != w[len(w)-(i+1)].lower():\n",
    "        flag = False\n",
    "        break;\n",
    "print('Palindrome') if flag else print('Not a palindrome')"
   ]
  },
  {
   "cell_type": "code",
   "execution_count": 81,
   "metadata": {},
   "outputs": [
    {
     "name": "stdout",
     "output_type": "stream",
     "text": [
      "Palindrome\n"
     ]
    }
   ],
   "source": [
    "w = 'Eye'\n",
    "\n",
    "tocheck = len(w)//2\n",
    "\n",
    "flag = True\n",
    "for i in range(0,tocheck):\n",
    "    if w[i].lower() != w[len(w)-(i+1)].lower():\n",
    "        print('Not a palindrome')\n",
    "        break;\n",
    "else:\n",
    "    print('Palindrome')"
   ]
  },
  {
   "cell_type": "markdown",
   "metadata": {},
   "source": [
    "### Check if a key exists in a dictionary"
   ]
  },
  {
   "cell_type": "code",
   "execution_count": 90,
   "metadata": {},
   "outputs": [],
   "source": [
    "c = {\"India\": \"In\", \"United States\": \"US\", \"United Kingdom\": \"UK\"}"
   ]
  },
  {
   "cell_type": "code",
   "execution_count": 83,
   "metadata": {},
   "outputs": [
    {
     "data": {
      "text/plain": [
       "True"
      ]
     },
     "execution_count": 83,
     "metadata": {},
     "output_type": "execute_result"
    }
   ],
   "source": [
    "\"India\" in c"
   ]
  },
  {
   "cell_type": "code",
   "execution_count": 84,
   "metadata": {},
   "outputs": [
    {
     "data": {
      "text/plain": [
       "False"
      ]
     },
     "execution_count": 84,
     "metadata": {},
     "output_type": "execute_result"
    }
   ],
   "source": [
    "\"US\" in c"
   ]
  },
  {
   "cell_type": "code",
   "execution_count": 88,
   "metadata": {},
   "outputs": [
    {
     "data": {
      "text/plain": [
       "False"
      ]
     },
     "execution_count": 88,
     "metadata": {},
     "output_type": "execute_result"
    }
   ],
   "source": [
    "\"United states\" in c"
   ]
  },
  {
   "cell_type": "code",
   "execution_count": 89,
   "metadata": {},
   "outputs": [
    {
     "data": {
      "text/plain": [
       "True"
      ]
     },
     "execution_count": 89,
     "metadata": {},
     "output_type": "execute_result"
    }
   ],
   "source": [
    "\"United States\" in c"
   ]
  },
  {
   "cell_type": "markdown",
   "metadata": {},
   "source": [
    "### Classify keys based on len"
   ]
  },
  {
   "cell_type": "code",
   "execution_count": 100,
   "metadata": {},
   "outputs": [
    {
     "name": "stdout",
     "output_type": "stream",
     "text": [
      "['India'] , ['United States', 'United Kingdom']\n"
     ]
    }
   ],
   "source": [
    "c = {\"India\": \"In\", \"United States\": \"US\", \"United Kingdom\": \"UK\"}\n",
    "\n",
    "lt, gt = [], []\n",
    "for k in c.keys():\n",
    "    if len(k) > 5:\n",
    "        gt.append(k)\n",
    "    else:\n",
    "        lt.append(k)\n",
    "    \n",
    "print(lt, ',' ,gt)"
   ]
  },
  {
   "cell_type": "code",
   "execution_count": 98,
   "metadata": {},
   "outputs": [
    {
     "name": "stdout",
     "output_type": "stream",
     "text": [
      "['India'] , ['United States', 'United Kingdom']\n"
     ]
    }
   ],
   "source": [
    "lt, gt = [], []\n",
    "[gt.append(k) if len(k) > 5 else lt.append(k) for k in c.keys()]\n",
    "\n",
    "print(lt, ',' ,gt)"
   ]
  },
  {
   "cell_type": "markdown",
   "metadata": {},
   "source": [
    "### Find max value from nested dicts"
   ]
  },
  {
   "cell_type": "code",
   "execution_count": 102,
   "metadata": {},
   "outputs": [],
   "source": [
    "d = {\n",
    "        'India': {'Jan': 1202, 'Feb': 239, 'March': 93},\n",
    "        'Australia': {'Jan': 202, 'Feb': 390, 'March': 293}\n",
    "    }"
   ]
  },
  {
   "cell_type": "code",
   "execution_count": 127,
   "metadata": {},
   "outputs": [
    {
     "name": "stdout",
     "output_type": "stream",
     "text": [
      "India      : ('Jan', 1202)\n",
      "Australia  : ('Feb', 390)\n"
     ]
    }
   ],
   "source": [
    "for k, v in d.items():\n",
    "    print(f'{k:10}', end=' : ')\n",
    "    _max = ('', 0)\n",
    "    for j, u in v.items():\n",
    "        if u > _max[1]:\n",
    "            _max = j, u\n",
    "    else:\n",
    "        print(_max)"
   ]
  },
  {
   "cell_type": "code",
   "execution_count": 142,
   "metadata": {},
   "outputs": [
    {
     "name": "stdout",
     "output_type": "stream",
     "text": [
      "2100\n"
     ]
    }
   ],
   "source": [
    "d = {\n",
    "        'India': {'Jan': 1202, 'Feb': 239, 'March': 93},\n",
    "        'Australia': {'Jan': 202, 'Feb': 390, 'March': 293},\n",
    "        'Single': -99999,\n",
    "        'Tuple': (2,4,1,5),\n",
    "        'List': [251,2,33,5,12],\n",
    "        'Set': {2,5,10,2100},\n",
    "        'String': 'Sandeshwar'\n",
    "    }\n",
    "\n",
    "_max = []\n",
    "for v in d.values():\n",
    "    if type(v) == int:\n",
    "        _max.append(v)\n",
    "    elif type(v) in [list, tuple, set]:\n",
    "        _max.append(max(v))\n",
    "    elif type(v) == dict:\n",
    "        _max.append(max(v.values()))\n",
    "    else:\n",
    "        pass\n",
    "                    \n",
    "print(max(_max))"
   ]
  },
  {
   "cell_type": "code",
   "execution_count": null,
   "metadata": {},
   "outputs": [],
   "source": []
  }
 ],
 "metadata": {
  "kernelspec": {
   "display_name": "Python 3",
   "language": "python",
   "name": "python3"
  },
  "language_info": {
   "codemirror_mode": {
    "name": "ipython",
    "version": 3
   },
   "file_extension": ".py",
   "mimetype": "text/x-python",
   "name": "python",
   "nbconvert_exporter": "python",
   "pygments_lexer": "ipython3",
   "version": "3.8.3"
  }
 },
 "nbformat": 4,
 "nbformat_minor": 4
}
