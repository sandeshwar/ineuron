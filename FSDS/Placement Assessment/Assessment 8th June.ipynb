{
 "cells": [
  {
   "cell_type": "markdown",
   "id": "6fb53229",
   "metadata": {},
   "source": [
    "## 1. Create a function in python to read the text file and replace specific content of the file."
   ]
  },
  {
   "cell_type": "code",
   "execution_count": 93,
   "id": "4370de77",
   "metadata": {},
   "outputs": [],
   "source": [
    "filename = 'example.txt';\n",
    "\n",
    "try:\n",
    "#     read the file content\n",
    "    with open(filename, mode='r') as file:\n",
    "        text = file.read();\n",
    "      \n",
    "#     replace text \n",
    "    text = text.replace('placement','screening');\n",
    "    \n",
    "#     save it to the file\n",
    "    with open(filename, mode='w') as file:\n",
    "        file.write(text);\n",
    "        \n",
    "except FileNotFoundError:\n",
    "    print('Please check the file path');\n",
    "except Exception as e:\n",
    "    print('Some error occured: \\n', e)"
   ]
  },
  {
   "cell_type": "markdown",
   "id": "18eb04fc",
   "metadata": {},
   "source": [
    "## 2. Demonstrate use of abstract class, multiple inheritance and decorator in python using examples."
   ]
  },
  {
   "cell_type": "markdown",
   "id": "39ff2b3a",
   "metadata": {},
   "source": [
    "### Abstract class example"
   ]
  },
  {
   "cell_type": "code",
   "execution_count": 69,
   "id": "b1ba12e5",
   "metadata": {},
   "outputs": [
    {
     "name": "stdout",
     "output_type": "stream",
     "text": [
      "Area of square with side length 2 is 4\n",
      "Area of rectable with base 2 and height 4 is 8\n"
     ]
    }
   ],
   "source": [
    "from abc import ABC, abstractmethod\n",
    "\n",
    "class Shape(ABC):\n",
    "    @abstractmethod\n",
    "    def calc_area(self):\n",
    "        pass\n",
    "    \n",
    "class Square(Shape):\n",
    "    def calc_area(self, side):\n",
    "        print(f'Area of square with side length {side} is {side * side}');\n",
    "        \n",
    "class Rectangle(Shape):\n",
    "    def calc_area(self, base, height):\n",
    "        print(f'Area of rectable with base {base} and height {height} is {base * height}');\n",
    "        \n",
    "square1 = Square();\n",
    "square1.calc_area(2);\n",
    "\n",
    "rect1 = Rectangle();\n",
    "rect1.calc_area(2,4);"
   ]
  },
  {
   "cell_type": "markdown",
   "id": "23f2e326",
   "metadata": {},
   "source": [
    "### Multiple inheritence example"
   ]
  },
  {
   "cell_type": "code",
   "execution_count": 80,
   "id": "a6b73628",
   "metadata": {},
   "outputs": [],
   "source": [
    "class Human:\n",
    "    def eat(self):\n",
    "        print('eating...');\n",
    "        \n",
    "    def walk(self):\n",
    "        print('walking...');\n",
    "    \n",
    "    def sleep(self):\n",
    "        print('sleeping...');\n",
    "        \n",
    "class Employee:\n",
    "    def go_to_office(self):\n",
    "        print('going to office...');\n",
    "        \n",
    "    def start_work(self):\n",
    "        print('started working...');\n",
    "    \n",
    "# a working engineer is both a human as well as an employee\n",
    "class Engineer(Human, Employee):\n",
    "    pass"
   ]
  },
  {
   "cell_type": "code",
   "execution_count": 81,
   "id": "ca1c526f",
   "metadata": {},
   "outputs": [
    {
     "name": "stdout",
     "output_type": "stream",
     "text": [
      "eating...\n",
      "going to office...\n",
      "started working...\n"
     ]
    }
   ],
   "source": [
    "eng1 = Engineer()\n",
    "\n",
    "eng1.eat() # inherited from Human class\n",
    "eng1.go_to_office() # inherited from Employee class\n",
    "eng1.start_work() # inherited from Employee class"
   ]
  },
  {
   "cell_type": "markdown",
   "id": "c951daaa",
   "metadata": {},
   "source": [
    "### Decorator example"
   ]
  },
  {
   "cell_type": "code",
   "execution_count": 97,
   "id": "d3b8a2d0",
   "metadata": {},
   "outputs": [
    {
     "name": "stdout",
     "output_type": "stream",
     "text": [
      "Executing function \"print_time\"...\n",
      "Current time is:  2022-06-08 22:04:49.156945\n",
      "Execution completed!!\n"
     ]
    }
   ],
   "source": [
    "from datetime import datetime\n",
    "\n",
    "def logger(func):\n",
    "    # this decorator will log message before and after executing the decorated function\n",
    "    def execute_function():\n",
    "        print(f'Executing function \"{func.__name__}\"...');\n",
    "        \n",
    "        func();\n",
    "        \n",
    "        print('Execution completed!!');\n",
    "        \n",
    "    return execute_function;\n",
    "\n",
    "\n",
    "@logger\n",
    "def print_time():\n",
    "    print('Current time is: ', datetime.now());\n",
    "    \n",
    "\n",
    "print_time();"
   ]
  },
  {
   "cell_type": "code",
   "execution_count": null,
   "id": "3ef82fb3",
   "metadata": {},
   "outputs": [],
   "source": []
  }
 ],
 "metadata": {
  "kernelspec": {
   "display_name": "Python 3 (ipykernel)",
   "language": "python",
   "name": "python3"
  },
  "language_info": {
   "codemirror_mode": {
    "name": "ipython",
    "version": 3
   },
   "file_extension": ".py",
   "mimetype": "text/x-python",
   "name": "python",
   "nbconvert_exporter": "python",
   "pygments_lexer": "ipython3",
   "version": "3.9.7"
  }
 },
 "nbformat": 4,
 "nbformat_minor": 5
}
