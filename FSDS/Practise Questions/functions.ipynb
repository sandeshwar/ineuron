{
 "cells": [
  {
   "cell_type": "code",
   "execution_count": 73,
   "metadata": {},
   "outputs": [],
   "source": [
    "# Required imports\n",
    "import cv2, os, platform, psutil, shutil, re\n",
    "from PIL import Image\n",
    "from datetime import datetime\n",
    "import PyPDF2\n",
    "import docx\n",
    "from glob import glob\n",
    "import socket\n",
    "import imaplib, email, getpass\n",
    "\n",
    "# install scripts\n",
    "# !pip install opencv-python\n",
    "# !pip install PyPDF2\n",
    "# !pip install python-docx\n",
    "# !pip install Pillow\n"
   ]
  },
  {
   "cell_type": "markdown",
   "metadata": {},
   "source": [
    "### 1 . You have to write a fun which will take string and return a len of it without using a inbuilt fun len"
   ]
  },
  {
   "cell_type": "code",
   "execution_count": 1,
   "metadata": {},
   "outputs": [
    {
     "data": {
      "text/plain": [
       "21"
      ]
     },
     "execution_count": 1,
     "metadata": {},
     "output_type": "execute_result"
    }
   ],
   "source": [
    "def get_len(string):\n",
    "    \"\"\"\n",
    "    Returns the length of the given string\n",
    "\n",
    "    Parameters\n",
    "    ----------\n",
    "    string : str\n",
    "        String whose length needs to be checked\n",
    "\n",
    "    Returns\n",
    "    -------\n",
    "    int\n",
    "        The length of string, or -1 if the arg in not a string\n",
    "    \"\"\"\n",
    "    len = 0\n",
    "    if type(string) == str:\n",
    "        for char in string:\n",
    "            len+=1\n",
    "        return len\n",
    "    else:\n",
    "        return -1\n",
    "\n",
    "# example\n",
    "get_len(\"It's a beautiful day.\")"
   ]
  },
  {
   "cell_type": "markdown",
   "metadata": {},
   "source": [
    "### 2 . write a fun which will be able to print an index of all premitive element which you will pass "
   ]
  },
  {
   "cell_type": "code",
   "execution_count": 5,
   "metadata": {},
   "outputs": [
    {
     "name": "stdout",
     "output_type": "stream",
     "text": [
      "[0, 5, 8]\n",
      "[2, 11]\n"
     ]
    }
   ],
   "source": [
    "def get_indexes(items, query):\n",
    "    \"\"\"\n",
    "    Returns a list containing the indexes of the query\n",
    "\n",
    "    Parameters\n",
    "    ---------\n",
    "    items : list\n",
    "        A list of primitive values\n",
    "    \n",
    "    query : int or str\n",
    "        A primitive value whose indexes needs to be checked\n",
    "\n",
    "    Returns\n",
    "    -------\n",
    "    list\n",
    "        List containing the indexes of all the matches\n",
    "    \"\"\"\n",
    "    indexes = []\n",
    "    for idx, item in enumerate(items):\n",
    "        if item == query:\n",
    "            indexes.append(idx)\n",
    "        \n",
    "    return indexes\n",
    "\n",
    "# example\n",
    "print(get_indexes([1,2,'2','3',124,1,2,5,1,2,9], 1))\n",
    "print(get_indexes([1,2,'2','3',124,1,2,5,1,2,9,'2'], '2'))"
   ]
  },
  {
   "cell_type": "markdown",
   "metadata": {},
   "source": [
    "### 3 . Write a fun which will take input as a dict and give me out as a list of all the values even in case of 2 level nesting it should work . "
   ]
  },
  {
   "cell_type": "code",
   "execution_count": 34,
   "metadata": {},
   "outputs": [
    {
     "name": "stdout",
     "output_type": "stream",
     "text": [
      "Output:  ['Value from 1st level', 'Value from 2nd level', 2, 1, 2]\n"
     ]
    }
   ],
   "source": [
    "def flatten_dict(items):\n",
    "    \"\"\"\n",
    "    Flatten a dictionary and return all the values as a list\n",
    "\n",
    "    Parameters\n",
    "    ----------\n",
    "    items : dict\n",
    "        Dictionary which is to be flattened\n",
    "    \n",
    "    Returns\n",
    "    -------\n",
    "    list\n",
    "        List containing all the values upto 2 levels\n",
    "    \"\"\"\n",
    "    values = []\n",
    "\n",
    "    if type(items) == dict:\n",
    "        for k,v in items.items():\n",
    "            if type(v) == dict:\n",
    "                for k2, v2 in v.items():\n",
    "                    if type(v2) == list:\n",
    "                        values.extend(v2)\n",
    "                    else:\n",
    "                        values.append(v2)\n",
    "            elif type(v) == list:\n",
    "                values.extend(v)\n",
    "            else:\n",
    "                values.append(v)\n",
    "    return values\n",
    "\n",
    "# example\n",
    "print('Output: ', flatten_dict({'1.1': \"Value from 1st level\", '1.2': { '2.1': 'Value from 2nd level', '2.2': [2,1,2] }}))\n",
    "    "
   ]
  },
  {
   "cell_type": "markdown",
   "metadata": {},
   "source": [
    "### 4 . write a fun which will take another function as an input and return me an output "
   ]
  },
  {
   "cell_type": "code",
   "execution_count": 41,
   "metadata": {},
   "outputs": [
    {
     "name": "stdout",
     "output_type": "stream",
     "text": [
      "Hello there!\n"
     ]
    }
   ],
   "source": [
    "def call_func(func):\n",
    "    \"\"\"\n",
    "    This function can be used to call another function\n",
    "    \n",
    "    Parameters\n",
    "    ----------\n",
    "    func : function\n",
    "        The function to call\n",
    "    \"\"\"\n",
    "    if callable(func):\n",
    "        func()\n",
    "\n",
    "def greet():\n",
    "    \"\"\"\n",
    "    Greets when invoked\n",
    "    \"\"\"\n",
    "    print('Hello there!')\n",
    "\n",
    "# example\n",
    "call_func(greet)"
   ]
  },
  {
   "cell_type": "markdown",
   "metadata": {},
   "source": [
    "### 5. write a function which will take multiple list as a input and give me concatnation of all the element as and output "
   ]
  },
  {
   "cell_type": "code",
   "execution_count": 58,
   "metadata": {},
   "outputs": [
    {
     "data": {
      "text/plain": [
       "[1, 2, 2, 1, 12, 22]"
      ]
     },
     "execution_count": 58,
     "metadata": {},
     "output_type": "execute_result"
    }
   ],
   "source": [
    "def flatten_lists(*items):\n",
    "    \"\"\"\n",
    "    Concats all the elements from the given lists\n",
    "\n",
    "    Parameters\n",
    "    ----------\n",
    "    *args : list\n",
    "        List of items to flatten\n",
    "\n",
    "    Returns\n",
    "    -------\n",
    "    list\n",
    "        List of all the elements from the given list\n",
    "    \"\"\"\n",
    "    return [val for item in items for val in item]\n",
    "\n",
    "# example\n",
    "flatten_lists([1,2],[2,1], [12,22])\n",
    "    "
   ]
  },
  {
   "cell_type": "markdown",
   "metadata": {},
   "source": [
    "### 6 . write a function which will be able to take a list as an input return an index of each element like a inbuilt index function but even if we have repetative element it should return index"
   ]
  },
  {
   "cell_type": "code",
   "execution_count": 60,
   "metadata": {},
   "outputs": [],
   "source": [
    "# Same as solution for question number 2"
   ]
  },
  {
   "cell_type": "markdown",
   "metadata": {},
   "source": [
    "### 7 . Write a function which will whould return list of all the file name from a directory . "
   ]
  },
  {
   "cell_type": "code",
   "execution_count": 4,
   "metadata": {},
   "outputs": [],
   "source": [
    "def list_dir(path):\n",
    "    \"\"\"\n",
    "    Returns the list of files/directories at the given path\n",
    "\n",
    "    Parameter\n",
    "    ---------\n",
    "    path : str\n",
    "        Path whose files needs to be listed\n",
    "\n",
    "    Return\n",
    "    ------\n",
    "    list\n",
    "        List of files/dirs at the given path\n",
    "    \"\"\"\n",
    "    return os.listdir(path)\n",
    "\n",
    "# example\n",
    "list_dir('D:/')"
   ]
  },
  {
   "cell_type": "markdown",
   "metadata": {},
   "source": [
    "### 8  . write a function which will be able to show your system configuration . "
   ]
  },
  {
   "cell_type": "code",
   "execution_count": 141,
   "metadata": {},
   "outputs": [
    {
     "name": "stdout",
     "output_type": "stream",
     "text": [
      "SYSTEM CONFIGURATION\n",
      "------------------------------------------------------------------\n",
      "OS          : Windows, 10.0.18362\n",
      "Processor   : Intel64 Family 6 Model 142 Stepping 12, GenuineIntel\n",
      "Arch.       : AMD64\n",
      "RAM         : 32 GB\n"
     ]
    }
   ],
   "source": [
    "def sys_config():\n",
    "    \"\"\"\n",
    "    Prints the system configuration \n",
    "    \"\"\"\n",
    "    config = platform.uname()\n",
    "    print(f\"{'System Configuration'.upper()}\")\n",
    "    print(f\"{'-'*66}\")\n",
    "    print(f\"{'OS':12}: {config[0]}, {config[3]}\")\n",
    "    print(f\"{'Processor':12}: {config[-1]}\")\n",
    "    print(f\"{'Arch.':12}: {config[-2]}\")\n",
    "    print(f\"{'RAM':12}: {round(psutil.virtual_memory().total / (1024.0 ** 3))} GB\")\n",
    "\n",
    "\n",
    "# example\n",
    "sys_config()"
   ]
  },
  {
   "cell_type": "markdown",
   "metadata": {},
   "source": [
    "### 9 . write a function which will be able to show date and time  . "
   ]
  },
  {
   "cell_type": "code",
   "execution_count": 181,
   "metadata": {},
   "outputs": [
    {
     "name": "stdout",
     "output_type": "stream",
     "text": [
      "Current datetime: Jan 20 2022, 16:19:07\n"
     ]
    }
   ],
   "source": [
    "def show_datetime():\n",
    "    \"\"\"\n",
    "    Prints the current date and time\n",
    "    \"\"\"\n",
    "    dt = datetime.now()\n",
    "    print(f\"{'Current datetime'}: {dt.strftime('%b %d %Y, %H:%M:%S')}\")\n",
    "\n",
    "# example\n",
    "show_datetime()"
   ]
  },
  {
   "cell_type": "markdown",
   "metadata": {},
   "source": [
    "### 10 . write a function which will be able to read a image file and show it to you ."
   ]
  },
  {
   "cell_type": "code",
   "execution_count": 7,
   "metadata": {},
   "outputs": [],
   "source": [
    "def show_img(path):\n",
    "    \"\"\"\n",
    "    Show an image using the PIL library\n",
    "\n",
    "    Parameters\n",
    "    ----------\n",
    "    path : str\n",
    "        Path to the image file\n",
    "    \"\"\"\n",
    "    try:\n",
    "        img = Image.open(path)\n",
    "        img.show()\n",
    "    except Exception as e:\n",
    "        print('Please provide a valid path to the image.\\nInvalid path: ',path)\n",
    "\n",
    "# example\n",
    "show_img(r'C:\\.....\\some.jpg')\n"
   ]
  },
  {
   "cell_type": "markdown",
   "metadata": {},
   "source": [
    "### 11 . write a function which can read video file and play for you . "
   ]
  },
  {
   "cell_type": "code",
   "execution_count": 1,
   "metadata": {},
   "outputs": [],
   "source": [
    "def play_video(path):\n",
    "    \"\"\"\n",
    "    Play the video at the given path.\n",
    "    Please press 'esc' to close the video player\n",
    "\n",
    "    Parameters\n",
    "    ----------\n",
    "    path : str\n",
    "        Path to the video file\n",
    "    \"\"\"\n",
    "    if os.path.exists(path):\n",
    "        cap = cv2.VideoCapture(path)\n",
    "        cv2.namedWindow('Video Player', cv2.WINDOW_AUTOSIZE)\n",
    "        while True:\n",
    "            ret, frame = cap.read()\n",
    "            cv2.imshow('Video Player', frame)\n",
    "            if cv2.waitKey(1) == 27:\n",
    "                break\n",
    "        \n",
    "        cv2.destroyAllWindows()\n",
    "    else:\n",
    "        print('Invalid path')\n",
    "\n",
    "# example\n",
    "play_video(r'C:\\Users\\.....\\video.mp4')"
   ]
  },
  {
   "cell_type": "markdown",
   "metadata": {},
   "source": [
    "### 12  . write a function whihc can move a file from one directory to another directory . "
   ]
  },
  {
   "cell_type": "code",
   "execution_count": 30,
   "metadata": {},
   "outputs": [],
   "source": [
    "def move_file(file, dir):\n",
    "    \"\"\"\n",
    "    Move a file to another directory\n",
    "\n",
    "    Parameters\n",
    "    ----------\n",
    "    file : str\n",
    "        Path of the file that needs to be moved\n",
    "    \n",
    "    dir : str\n",
    "        Destination directory\n",
    "    \"\"\"\n",
    "    if os.path.isfile(file):\n",
    "        shutil.move(file, os.path.join(dir, os.path.basename(file)))\n",
    "    else:\n",
    "        print('Invalid file path')\n",
    "\n",
    "# example\n",
    "move_file(r\"D:\\moveme.txt\", r\"D:\\moveto\")"
   ]
  },
  {
   "cell_type": "markdown",
   "metadata": {},
   "source": [
    "### 13 . write a function which will be able to shutdonw your system. "
   ]
  },
  {
   "cell_type": "code",
   "execution_count": 87,
   "metadata": {},
   "outputs": [],
   "source": [
    "def shutdown():\n",
    "    \"\"\"\n",
    "    Call this function to shutdown you system\n",
    "    \"\"\"\n",
    "    res = input(\"Do you want to shutdown your system ? (yes/no): \")\n",
    "    if res == 'yes':\n",
    "        os.system('shutdown /s /t 5')\n",
    "    else:\n",
    "        exit()\n",
    "\n",
    "# example\n",
    "# shutdown()"
   ]
  },
  {
   "cell_type": "markdown",
   "metadata": {},
   "source": [
    "### 14 . write a function which will be able to access your mail."
   ]
  },
  {
   "cell_type": "code",
   "execution_count": 39,
   "metadata": {},
   "outputs": [],
   "source": [
    "def read_emails(imap_url = 'imap.gmail.com'):\n",
    "    \"\"\"\n",
    "    Read emails of a given account\n",
    "    \n",
    "    Parameters\n",
    "    ----------\n",
    "    username : str\n",
    "        Username to log in\n",
    "        \n",
    "    ----------\n",
    "    password : str\n",
    "        Password to log in\n",
    "        \n",
    "    ----------\n",
    "    imap_url : str\n",
    "        Imap server url\n",
    "    \"\"\"\n",
    "    # connect to server and authenticate\n",
    "    con = imaplib.IMAP4_SSL(imap_url)\n",
    "    password=getpass.getpass()\n",
    "    con.login('<sender_email>@gmail.com', password)\n",
    "    \n",
    "    # search \n",
    "    con.select('Inbox')\n",
    "    res, num_bytes = con.search(None, 'ALL')\n",
    "    \n",
    "    # fetch the email contents\n",
    "    msgs = []\n",
    "    for num in num_bytes[0].split():\n",
    "        typ, msg = con.fetch(num, '(RFC822)')\n",
    "        msgs.append(msg)\n",
    "    \n",
    "    print_emails(msgs)\n",
    "    \n",
    "    con.close()\n",
    "    con.logout()\n",
    "    \n",
    "    \n",
    "def print_emails(msgs):\n",
    "    \"\"\"\n",
    "    Print the fetched emails (raw format)\n",
    "    \n",
    "    Parameters\n",
    "    ----------\n",
    "    msgs : raw\n",
    "        Raw emails fetched from IMAP server\n",
    "    \"\"\"\n",
    "    for msg in msgs[::-1]:\n",
    "        for sent in msg:\n",
    "            if type(sent) is tuple:\n",
    "                # encoding set as utf-8\n",
    "                content = str(sent[1], 'utf-8')\n",
    "                data = str(content)\n",
    "\n",
    "                # Handling errors related to unicodenecode\n",
    "                try:\n",
    "                    indexstart = data.find(\"ltr\")\n",
    "                    data2 = data[indexstart + 5: len(data)]\n",
    "                    indexend = data2.find(\"</div>\")\n",
    "\n",
    "                    # printtng the required content which we need\n",
    "                    # to extract from our email i.e our body\n",
    "                    print(data2[0: indexend])\n",
    "\n",
    "                except UnicodeEncodeError as e:\n",
    "                    pass\n",
    "    \n",
    "    \n",
    "# example\n",
    "read_emails()\n",
    "    "
   ]
  },
  {
   "cell_type": "markdown",
   "metadata": {},
   "source": [
    "### 15 . write a func bywhcih i can send a mail to anyone "
   ]
  },
  {
   "cell_type": "code",
   "execution_count": 47,
   "metadata": {},
   "outputs": [],
   "source": [
    "import smtplib\n",
    "\n",
    "def send_email(to, msg = '', smtp_url = 'smtp.gmail.com'):\n",
    "    \"\"\"\n",
    "    Send an email to some account\n",
    "    \n",
    "    Parameters\n",
    "    ----------\n",
    "    to : str\n",
    "        Email id of the receiver\n",
    "        \n",
    "    msg : str\n",
    "        Email content\n",
    "    \"\"\"\n",
    "    s = smtplib.SMTP(smtp_url, 587)\n",
    "    s.starttls()\n",
    "    sender = '<sender_email>@gmail.com'\n",
    "    \n",
    "    # authenticate and send the email\n",
    "    s.login(sender, getpass.getpass('Enter password'))\n",
    "    s.sendmail(sender, to, msg)\n",
    "    print('Email sent')\n",
    "    \n",
    "    # close\n",
    "    s.quit()\n",
    "    \n",
    "# example\n",
    "send_email('<receivers_email>', 'Hello from python')\n",
    "    "
   ]
  },
  {
   "cell_type": "markdown",
   "metadata": {},
   "source": [
    "### 16. write a func to read a complete PDf file . "
   ]
  },
  {
   "cell_type": "code",
   "execution_count": 22,
   "metadata": {},
   "outputs": [
    {
     "name": "stdout",
     "output_type": "stream",
     "text": [
      " Simple PDF File 2  ...continued from page 1. Yet more text. And more text. And more text.  And more text. And more text. And more text. And more text. And more  text. Oh, how boring typing this stuff. But not as boring as watching  paint dry. And more text. And more text. And more text. And more text.  Boring.  More, a little more text. The end, and just as well. \n"
     ]
    }
   ],
   "source": [
    "def read_pdf(path):\n",
    "    \"\"\"\n",
    "    Print the content of a pdf file\n",
    "    \n",
    "    Parameters\n",
    "    ----------\n",
    "    path : str\n",
    "        Path to the pdf file\n",
    "    \"\"\"\n",
    "    if os.path.isfile(path):\n",
    "        with open(path, 'rb') as file:\n",
    "            pdfReader = PyPDF2.PdfFileReader(file)\n",
    "            for i in range(pdfReader.numPages):\n",
    "                print(pdfReader.getPage(i).extractText())\n",
    "    else:\n",
    "        print('The given path is incorrect')\n",
    "        \n",
    "# example\n",
    "read_pdf('./data/sample2.pdf')"
   ]
  },
  {
   "cell_type": "markdown",
   "metadata": {},
   "source": [
    "### 17. write a function to read a word file . "
   ]
  },
  {
   "cell_type": "code",
   "execution_count": 23,
   "metadata": {},
   "outputs": [
    {
     "name": "stdout",
     "output_type": "stream",
     "text": [
      "What is Lorem Ipsum?\n",
      "Lorem Ipsum is simply dummy text of the printing and typesetting industry. Lorem Ipsum has been the industry's standard dummy text ever since the 1500s, when an unknown printer took a galley of type and scrambled it to make a type specimen book. It has survived not only five centuries, but also the leap into electronic typesetting, remaining essentially unchanged. It was popularised in the 1960s with the release of Letraset sheets containing Lorem Ipsum passages, and more recently with desktop publishing software like Aldus PageMaker including versions of Lorem Ipsum.\n",
      "Why do we use it?\n",
      "It is a long established fact that a reader will be distracted by the readable content of a page when looking at its layout. The point of using Lorem Ipsum is that it has a more-or-less normal distribution of letters, as opposed to using 'Content here, content here', making it look like readable English. Many desktop publishing packages and web page editors now use Lorem Ipsum as their default model text, and a search for 'lorem ipsum' will uncover many web sites still in their infancy. Various versions have evolved over the years, sometimes by accident, sometimes on purpose (injected humour and the like).\n",
      "\n",
      "\n",
      "Where does it come from?\n",
      "Contrary to popular belief, Lorem Ipsum is not simply random text. It has roots in a piece of classical Latin literature from 45 BC, making it over 2000 years old. Richard McClintock, a Latin professor at Hampden-Sydney College in Virginia, looked up one of the more obscure Latin words, consectetur, from a Lorem Ipsum passage, and going through the cites of the word in classical literature, discovered the undoubtable source. Lorem Ipsum comes from sections 1.10.32 and 1.10.33 of \"de Finibus Bonorum et Malorum\" (The Extremes of Good and Evil) by Cicero, written in 45 BC. This book is a treatise on the theory of ethics, very popular during the Renaissance. The first line of Lorem Ipsum, \"Lorem ipsum dolor sit amet..\", comes from a line in section 1.10.32.\n",
      "The standard chunk of Lorem Ipsum used since the 1500s is reproduced below for those interested. Sections 1.10.32 and 1.10.33 from \"de Finibus Bonorum et Malorum\" by Cicero are also reproduced in their exact original form, accompanied by English versions from the 1914 translation by H. Rackham.\n",
      "Where can I get some?\n",
      "There are many variations of passages of Lorem Ipsum available, but the majority have suffered alteration in some form, by injected humour, or randomised words which don't look even slightly believable. If you are going to use a passage of Lorem Ipsum, you need to be sure there isn't anything embarrassing hidden in the middle of text. All the Lorem Ipsum generators on the Internet tend to repeat predefined chunks as necessary, making this the first true generator on the Internet. It uses a dictionary of over 200 Latin words, combined with a handful of model sentence structures, to generate Lorem Ipsum which looks reasonable. The generated Lorem Ipsum is therefore always free from repetition, injected humour, or non-characteristic words etc.\n",
      "\n"
     ]
    }
   ],
   "source": [
    "def read_doc(path):\n",
    "    \"\"\"\n",
    "    Print the content of a document file\n",
    "    \n",
    "    Parameters\n",
    "    ----------\n",
    "    path : str\n",
    "        Path to the document file    \n",
    "    \"\"\"\n",
    "    if os.path.isfile(path):\n",
    "        doc = docx.Document('./data/sample.docx')\n",
    "        for para in doc.paragraphs:\n",
    "            print(para.text)\n",
    "    else:\n",
    "        print('The given path is incorrect')\n",
    "            \n",
    "# example\n",
    "read_doc('./data/sample.docx')"
   ]
  },
  {
   "cell_type": "markdown",
   "metadata": {},
   "source": [
    "### 18 . write a function which can help you to filter only word file from a directory . "
   ]
  },
  {
   "cell_type": "code",
   "execution_count": 63,
   "metadata": {},
   "outputs": [
    {
     "name": "stdout",
     "output_type": "stream",
     "text": [
      "[]\n"
     ]
    }
   ],
   "source": [
    "def get_doc_files(_dir, types = ['doc','docx']):\n",
    "    \"\"\"\n",
    "    Returns a list containing the names of all the word files in the given directory\n",
    "    \n",
    "    Parameters\n",
    "    ----------\n",
    "    dir : str\n",
    "        Directory to scan for word files    \n",
    "        \n",
    "    types : list\n",
    "        The type of files to search for (doc, docx by default)\n",
    "        \n",
    "    Returns\n",
    "    -------\n",
    "    list \n",
    "        List of word files in a given dir\n",
    "    \"\"\"\n",
    "    if os.path.isdir(_dir):\n",
    "        return list(filter(lambda t: t.split('.')[-1] in types,os.listdir(_dir)))\n",
    "    else:\n",
    "        print('Not a directory')\n",
    "\n",
    "# example\n",
    "out = get_doc_files(r'D:\\**\\Documents')\n",
    "print(out)"
   ]
  },
  {
   "cell_type": "markdown",
   "metadata": {},
   "source": [
    "### 19 . write a function by which you can print an ip address of your system . "
   ]
  },
  {
   "cell_type": "code",
   "execution_count": 72,
   "metadata": {},
   "outputs": [
    {
     "name": "stdout",
     "output_type": "stream",
     "text": [
      "192.168.1.101\n"
     ]
    }
   ],
   "source": [
    "def print_sys_ip():\n",
    "    \"\"\"\n",
    "    Prints the system's IP address\n",
    "    \"\"\"\n",
    "    print(socket.gethostbyname(socket.gethostname()))\n",
    "    \n",
    "# example\n",
    "print_sys_ip()"
   ]
  },
  {
   "cell_type": "markdown",
   "metadata": {},
   "source": [
    "### 20 . write a function by which you will be able to append two PDF files . "
   ]
  },
  {
   "cell_type": "code",
   "execution_count": 86,
   "metadata": {},
   "outputs": [
    {
     "data": {
      "text/plain": [
       "'final.pdf'"
      ]
     },
     "execution_count": 86,
     "metadata": {},
     "output_type": "execute_result"
    }
   ],
   "source": [
    "def merge_pdf(pdf1, pdf2, output = 'merged_file.pdf'):\n",
    "    \"\"\"\n",
    "    Merge two pdf files into one and return the final pdf\n",
    "        \n",
    "    Parameters\n",
    "    ----------\n",
    "    pdf1 : str\n",
    "        The path to first pdf file\n",
    "        \n",
    "    pdf2 : str\n",
    "        The path to second pdf file\n",
    "        \n",
    "    Returns\n",
    "    -------\n",
    "    str \n",
    "        Name of the newly created pdf file\n",
    "    \"\"\"\n",
    "    \n",
    "    if os.path.isfile(pdf1) and os.path.isfile(pdf2):\n",
    "        # check if files are pdfs\n",
    "        if pdf1.split('.')[-1] == 'pdf' and pdf2.split('.')[-1] == 'pdf':\n",
    "            pdfMerger = PyPDF2.PdfFileMerger()\n",
    "            pdfMerger.append(pdf1)\n",
    "            pdfMerger.append(pdf2)\n",
    "            \n",
    "            # write the output pdf to a file\n",
    "            with open(output, 'wb') as f:\n",
    "                pdfMerger.write(f)\n",
    "            \n",
    "            return output\n",
    "        else:\n",
    "            print('Only pdf files are supported, please check the path')\n",
    "    else:\n",
    "        print('Either or both the file paths are incorrect')\n",
    "    \n",
    "    \n",
    "# ecample\n",
    "merge_pdf('./data/sample1.pdf','./data/sample2.pdf', 'final.pdf')"
   ]
  }
 ],
 "metadata": {
  "kernelspec": {
   "display_name": "Python 3 (ipykernel)",
   "language": "python",
   "name": "python3"
  },
  "language_info": {
   "codemirror_mode": {
    "name": "ipython",
    "version": 3
   },
   "file_extension": ".py",
   "mimetype": "text/x-python",
   "name": "python",
   "nbconvert_exporter": "python",
   "pygments_lexer": "ipython3",
   "version": "3.9.7"
  }
 },
 "nbformat": 4,
 "nbformat_minor": 2
}
