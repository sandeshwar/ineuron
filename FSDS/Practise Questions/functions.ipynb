{
 "cells": [
  {
   "cell_type": "markdown",
   "metadata": {},
   "source": [
    "### 1 . You have to write a fun which will take string and return a len of it without using a inbuilt fun len"
   ]
  },
  {
   "cell_type": "code",
   "execution_count": 1,
   "metadata": {},
   "outputs": [
    {
     "data": {
      "text/plain": [
       "21"
      ]
     },
     "execution_count": 1,
     "metadata": {},
     "output_type": "execute_result"
    }
   ],
   "source": [
    "def get_len(string):\n",
    "    \"\"\"\n",
    "    Returns the length of the given string\n",
    "\n",
    "    Parameters\n",
    "    ----------\n",
    "    string : str\n",
    "        String whose length needs to be checked\n",
    "\n",
    "    Returns\n",
    "    -------\n",
    "    int\n",
    "        The length of string, or -1 if the arg in not a string\n",
    "    \"\"\"\n",
    "    len = 0\n",
    "    if type(string) == str:\n",
    "        for char in string:\n",
    "            len+=1\n",
    "        return len\n",
    "    else:\n",
    "        return -1\n",
    "\n",
    "# example\n",
    "get_len(\"It's a beautiful day.\")"
   ]
  },
  {
   "cell_type": "markdown",
   "metadata": {},
   "source": [
    "### 2 . write a fun which will be able to print an index of all premitive element which you will pass "
   ]
  },
  {
   "cell_type": "code",
   "execution_count": 5,
   "metadata": {},
   "outputs": [
    {
     "name": "stdout",
     "output_type": "stream",
     "text": [
      "[0, 5, 8]\n",
      "[2, 11]\n"
     ]
    }
   ],
   "source": [
    "def get_indexes(items, query):\n",
    "    \"\"\"\n",
    "    Returns a list containing the indexes of the query\n",
    "\n",
    "    Parameters\n",
    "    ---------\n",
    "    items : list\n",
    "        A list of primitive values\n",
    "    \n",
    "    query : int or str\n",
    "        A primitive value whose indexes needs to be checked\n",
    "\n",
    "    Returns\n",
    "    -------\n",
    "    list\n",
    "        List containing the indexes of all the matches\n",
    "    \"\"\"\n",
    "    indexes = []\n",
    "    for idx, item in enumerate(items):\n",
    "        if item == query:\n",
    "            indexes.append(idx)\n",
    "        \n",
    "    return indexes\n",
    "\n",
    "# example\n",
    "print(get_indexes([1,2,'2','3',124,1,2,5,1,2,9], 1))\n",
    "print(get_indexes([1,2,'2','3',124,1,2,5,1,2,9,'2'], '2'))"
   ]
  },
  {
   "cell_type": "markdown",
   "metadata": {},
   "source": [
    "### 3 . Write a fun which will take input as a dict and give me out as a list of all the values even in case of 2 level nesting it should work . "
   ]
  },
  {
   "cell_type": "code",
   "execution_count": 34,
   "metadata": {},
   "outputs": [
    {
     "name": "stdout",
     "output_type": "stream",
     "text": [
      "Output:  ['Value from 1st level', 'Value from 2nd level', 2, 1, 2]\n"
     ]
    }
   ],
   "source": [
    "def flatten_dict(items):\n",
    "    \"\"\"\n",
    "    Flatten a dictionary and return all the values as a list\n",
    "\n",
    "    Parameters\n",
    "    ----------\n",
    "    items : dict\n",
    "        Dictionary which is to be flattened\n",
    "    \n",
    "    Returns\n",
    "    -------\n",
    "    list\n",
    "        List containing all the values upto 2 levels\n",
    "    \"\"\"\n",
    "    values = []\n",
    "\n",
    "    if type(items) == dict:\n",
    "        for k,v in items.items():\n",
    "            if type(v) == dict:\n",
    "                for k2, v2 in v.items():\n",
    "                    if type(v2) == list:\n",
    "                        values.extend(v2)\n",
    "                    else:\n",
    "                        values.append(v2)\n",
    "            elif type(v) == list:\n",
    "                values.extend(v)\n",
    "            else:\n",
    "                values.append(v)\n",
    "    return values\n",
    "\n",
    "# example\n",
    "print('Output: ', flatten_dict({'1.1': \"Value from 1st level\", '1.2': { '2.1': 'Value from 2nd level', '2.2': [2,1,2] }}))\n",
    "    "
   ]
  },
  {
   "cell_type": "markdown",
   "metadata": {},
   "source": [
    "### 4 . write a fun which will take another function as an input and return me an output "
   ]
  },
  {
   "cell_type": "code",
   "execution_count": 41,
   "metadata": {},
   "outputs": [
    {
     "name": "stdout",
     "output_type": "stream",
     "text": [
      "Hello there!\n"
     ]
    }
   ],
   "source": [
    "def call_func(func):\n",
    "    \"\"\"\n",
    "    This function can be used to call another function\n",
    "    \n",
    "    Parameters\n",
    "    ----------\n",
    "    func : function\n",
    "        The function to call\n",
    "    \"\"\"\n",
    "    if callable(func):\n",
    "        func()\n",
    "\n",
    "def greet():\n",
    "    \"\"\"\n",
    "    Greets when invoked\n",
    "    \"\"\"\n",
    "    print('Hello there!')\n",
    "\n",
    "# example\n",
    "call_func(greet)"
   ]
  },
  {
   "cell_type": "markdown",
   "metadata": {},
   "source": [
    "### 5. write a function which will take multiple list as a input and give me concatnation of all the element as and output "
   ]
  },
  {
   "cell_type": "code",
   "execution_count": 58,
   "metadata": {},
   "outputs": [
    {
     "data": {
      "text/plain": [
       "[1, 2, 2, 1, 12, 22]"
      ]
     },
     "execution_count": 58,
     "metadata": {},
     "output_type": "execute_result"
    }
   ],
   "source": [
    "def flatten_lists(*items):\n",
    "    \"\"\"\n",
    "    Concats all the elements from the given lists\n",
    "\n",
    "    Parameters\n",
    "    ----------\n",
    "    *args : list\n",
    "        List of items to flatten\n",
    "\n",
    "    Returns\n",
    "    -------\n",
    "    list\n",
    "        List of all the elements from the given list\n",
    "    \"\"\"\n",
    "    return [val for item in items for val in item]\n",
    "\n",
    "# example\n",
    "flatten_lists([1,2],[2,1], [12,22])\n",
    "    "
   ]
  },
  {
   "cell_type": "markdown",
   "metadata": {},
   "source": [
    "### 6 . write a function which will be able to take a list as an input return an index of each element like a inbuilt index function but even if we have repetative element it should return index"
   ]
  },
  {
   "cell_type": "code",
   "execution_count": 60,
   "metadata": {},
   "outputs": [],
   "source": [
    "# Same as solution for question number 2"
   ]
  },
  {
   "cell_type": "markdown",
   "metadata": {},
   "source": [
    "### 7 . Write a function which will whould return list of all the file name from a directory . "
   ]
  },
  {
   "cell_type": "code",
   "execution_count": 83,
   "metadata": {},
   "outputs": [],
   "source": [
    "import os\n",
    "def list_dir(path):\n",
    "    \"\"\"\n",
    "    Returns the list of files/directories at the given path\n",
    "\n",
    "    Parameter\n",
    "    ---------\n",
    "    path : str\n",
    "        Path whose files needs to be listed\n",
    "\n",
    "    Return\n",
    "    ------\n",
    "    list\n",
    "        List of files/dirs at the given path\n",
    "    \"\"\"\n",
    "    return os.listdir(path)\n",
    "\n",
    "# example\n",
    "list_dir('D:/')"
   ]
  },
  {
   "cell_type": "markdown",
   "metadata": {},
   "source": [
    "### 8  . write a function which will be able to show your system configuration . "
   ]
  },
  {
   "cell_type": "code",
   "execution_count": 141,
   "metadata": {},
   "outputs": [
    {
     "name": "stdout",
     "output_type": "stream",
     "text": [
      "SYSTEM CONFIGURATION\n",
      "------------------------------------------------------------------\n",
      "OS          : Windows, 10.0.18362\n",
      "Processor   : Intel64 Family 6 Model 142 Stepping 12, GenuineIntel\n",
      "Arch.       : AMD64\n",
      "RAM         : 32 GB\n"
     ]
    }
   ],
   "source": [
    "import platform, psutil\n",
    "\n",
    "def sys_config():\n",
    "    \"\"\"\n",
    "    Prints the system configuration \n",
    "    \"\"\"\n",
    "    config = platform.uname()\n",
    "    print(f\"{'System Configuration'.upper()}\")\n",
    "    print(f\"{'-'*66}\")\n",
    "    print(f\"{'OS':12}: {config[0]}, {config[3]}\")\n",
    "    print(f\"{'Processor':12}: {config[-1]}\")\n",
    "    print(f\"{'Arch.':12}: {config[-2]}\")\n",
    "    print(f\"{'RAM':12}: {round(psutil.virtual_memory().total / (1024.0 ** 3))} GB\")\n",
    "\n",
    "\n",
    "# example\n",
    "sys_config()"
   ]
  },
  {
   "cell_type": "markdown",
   "metadata": {},
   "source": [
    "### 9 . write a function which will be able to show date and time  . "
   ]
  },
  {
   "cell_type": "code",
   "execution_count": 181,
   "metadata": {},
   "outputs": [
    {
     "name": "stdout",
     "output_type": "stream",
     "text": [
      "Current datetime: Jan 20 2022, 16:19:07\n"
     ]
    }
   ],
   "source": [
    "from datetime import datetime\n",
    "\n",
    "def show_datetime():\n",
    "    \"\"\"\n",
    "    Prints the current date and time\n",
    "    \"\"\"\n",
    "    dt = datetime.now()\n",
    "    print(f\"{'Current datetime'}: {dt.strftime('%b %d %Y, %H:%M:%S')}\")\n",
    "\n",
    "# example\n",
    "show_datetime()"
   ]
  },
  {
   "cell_type": "markdown",
   "metadata": {},
   "source": [
    "### 10 . write a function which will be able to read a image file and show it to you ."
   ]
  },
  {
   "cell_type": "code",
   "execution_count": 201,
   "metadata": {},
   "outputs": [],
   "source": [
    "from PIL import Image\n",
    "import os\n",
    "\n",
    "def show_img(path):\n",
    "    \"\"\"\n",
    "    Show an image using the PIL library\n",
    "\n",
    "    Parameters\n",
    "    ----------\n",
    "    path : str\n",
    "        Path to the image file\n",
    "    \"\"\"\n",
    "    try:\n",
    "        img = Image.open(path)\n",
    "        img.show()\n",
    "    except Exception as e:\n",
    "        print('Please provide a valid path to the image.\\nInvalid path: ',path)\n",
    "\n",
    "# example\n",
    "show_img(r'C:\\Users\\z0047wsu\\Downloads\\Screenshot_20220112-230307_MyJio.jpg')\n"
   ]
  },
  {
   "cell_type": "markdown",
   "metadata": {},
   "source": [
    "### 11 . write a function which can read video file and play for you . "
   ]
  },
  {
   "cell_type": "code",
   "execution_count": null,
   "metadata": {},
   "outputs": [],
   "source": []
  },
  {
   "cell_type": "code",
   "execution_count": null,
   "metadata": {},
   "outputs": [],
   "source": [
    "# 12  . write a function whihc can move a file from one directory to another directory . \n",
    "# 13 . write a function which will be able to shutdonw your system . \n",
    "# 14 . write a function whihc will be able to access your mail . \n",
    "# 15 . write a func bywhcih i can send a mail to anyone \n",
    "# 16. write a func to read a complete PDf file . \n",
    "# 17. write a function to read a word file . \n",
    "# 18 . write a function which can help you to filter only word file from a directory . \n",
    "# 19 . write a function by which you can print an ip address of your system . \n",
    "# 20 . write a function by which you will be able to append two PDF files . "
   ]
  },
  {
   "cell_type": "code",
   "execution_count": null,
   "metadata": {},
   "outputs": [],
   "source": []
  }
 ],
 "metadata": {
  "kernelspec": {
   "display_name": "Python 3",
   "language": "python",
   "name": "python3"
  },
  "language_info": {
   "codemirror_mode": {
    "name": "ipython",
    "version": 3
   },
   "file_extension": ".py",
   "mimetype": "text/x-python",
   "name": "python",
   "nbconvert_exporter": "python",
   "pygments_lexer": "ipython3",
   "version": "3.8.3"
  },
  "orig_nbformat": 4
 },
 "nbformat": 4,
 "nbformat_minor": 2
}
